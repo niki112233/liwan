{
 "cells": [
  {
   "cell_type": "code",
   "execution_count": 1,
   "id": "1e888f15",
   "metadata": {},
   "outputs": [
    {
     "name": "stdout",
     "output_type": "stream",
     "text": [
      "The file 112233.txt has about 94 words.\n"
     ]
    }
   ],
   "source": [
    "file_name = '112233.txt'\n",
    "\n",
    "try:\n",
    "\n",
    "    with open(file_name) as file_obj:\n",
    "\n",
    "        contents = file_obj.read()\n",
    "\n",
    "except FileNotFoundError:\n",
    "\n",
    "    msg = 'Sorry, the file' + file_name + ' does not exist.'\n",
    "\n",
    "    print(msg)\n",
    "\n",
    "else:\n",
    "\n",
    "    words = contents.rstrip()\n",
    "\n",
    "    num_words = len(words)\n",
    "\n",
    "    print('The file ' + file_name + ' has about ' + str(num_words) + ' words.')"
   ]
  },
  {
   "cell_type": "code",
   "execution_count": null,
   "id": "b505b680",
   "metadata": {},
   "outputs": [],
   "source": []
  }
 ],
 "metadata": {
  "kernelspec": {
   "display_name": "Python 3 (ipykernel)",
   "language": "python",
   "name": "python3"
  },
  "language_info": {
   "codemirror_mode": {
    "name": "ipython",
    "version": 3
   },
   "file_extension": ".py",
   "mimetype": "text/x-python",
   "name": "python",
   "nbconvert_exporter": "python",
   "pygments_lexer": "ipython3",
   "version": "3.9.13"
  }
 },
 "nbformat": 4,
 "nbformat_minor": 5
}

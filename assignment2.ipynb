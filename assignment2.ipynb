{
 "cells": [
  {
   "cell_type": "code",
   "execution_count": 1,
   "id": "1e888f15",
   "metadata": {},
   "outputs": [
    {
     "name": "stdout",
     "output_type": "stream",
     "text": [
      "{'F': 1, 'd': 14, 'i': 13, 'f': 15, 'j': 14, 'n': 7, 'k': 4, 'e': 2, 'I': 1, 's': 12, 'o': 4, 'l': 1, 'm': 2, 'w': 2}\n"
     ]
    }
   ],
   "source": [
    "import re\n",
    " \n",
    "word_num={}\n",
    "with open('112233.txt') as f1:\n",
    "    message=''\n",
    "    for line in f1:\n",
    "        message+=line.rstrip()\n",
    "        count = {}\n",
    "for character in message:\n",
    "    count.setdefault(character, 0) \n",
    "    count[character] = count[character] + 1\n",
    "print(count)"
   ]
  },
  {
   "cell_type": "code",
   "execution_count": null,
   "id": "b505b680",
   "metadata": {},
   "outputs": [],
   "source": []
  }
 ],
 "metadata": {
  "kernelspec": {
   "display_name": "Python 3 (ipykernel)",
   "language": "python",
   "name": "python3"
  },
  "language_info": {
   "codemirror_mode": {
    "name": "ipython",
    "version": 3
   },
   "file_extension": ".py",
   "mimetype": "text/x-python",
   "name": "python",
   "nbconvert_exporter": "python",
   "pygments_lexer": "ipython3",
   "version": "3.9.13"
  }
 },
 "nbformat": 4,
 "nbformat_minor": 5
}
